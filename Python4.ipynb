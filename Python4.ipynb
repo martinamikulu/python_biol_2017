{
 "cells": [
  {
   "cell_type": "code",
   "execution_count": 18,
   "metadata": {
    "collapsed": true
   },
   "outputs": [],
   "source": [
    "seq = \"ACTGAATGCT\"\n",
    "nucl = \"A\"\n",
    "def nucl_freq(where,what):\n",
    "    number = where.count(what)/len(where)\n",
    "    return number"
   ]
  },
  {
   "cell_type": "code",
   "execution_count": 19,
   "metadata": {},
   "outputs": [
    {
     "data": {
      "text/plain": [
       "0.3"
      ]
     },
     "execution_count": 19,
     "metadata": {},
     "output_type": "execute_result"
    }
   ],
   "source": [
    "a_freq = nucl_freq(seq, nucl)\n",
    "a_freq"
   ]
  },
  {
   "cell_type": "code",
   "execution_count": 25,
   "metadata": {
    "collapsed": true
   },
   "outputs": [],
   "source": [
    "seq = \"ACTGAATGCT\"\n",
    "freqs = {}\n",
    "all_nucl = \"ACGT\"\n",
    "def nucl_freq_all(where):\n",
    "    for i in range(len(all_nucl)):\n",
    "        freqs[all_nucl[i]] = where.count(all_nucl[i])/len(where)\n",
    "    return freqs"
   ]
  },
  {
   "cell_type": "code",
   "execution_count": 26,
   "metadata": {},
   "outputs": [],
   "source": [
    "freqs = nucl_freq_all(seq)"
   ]
  },
  {
   "cell_type": "code",
   "execution_count": 27,
   "metadata": {},
   "outputs": [
    {
     "data": {
      "text/plain": [
       "{'A': 0.3, 'C': 0.2, 'G': 0.2, 'T': 0.3}"
      ]
     },
     "execution_count": 27,
     "metadata": {},
     "output_type": "execute_result"
    }
   ],
   "source": [
    "freqs"
   ]
  },
  {
   "cell_type": "code",
   "execution_count": 35,
   "metadata": {},
   "outputs": [],
   "source": [
    "seq_t = \"ACA\"\n",
    "nucl_t = \"A\"\n",
    "assert nucl_freq(seq_t, nucl_t) == 2/3"
   ]
  },
  {
   "cell_type": "code",
   "execution_count": 36,
   "metadata": {},
   "outputs": [],
   "source": [
    "seq_t = \"ACAC\"\n",
    "nucl_t = \"G\"\n",
    "assert nucl_freq(seq_t, nucl_t) == 0"
   ]
  },
  {
   "cell_type": "code",
   "execution_count": 37,
   "metadata": {},
   "outputs": [],
   "source": [
    "seq_t = \"ACA\"\n",
    "assert nucl_freq_all(seq_t) == {'A': 2/3, 'C': 1/3, 'G': 0, 'T': 0}"
   ]
  },
  {
   "cell_type": "code",
   "execution_count": 38,
   "metadata": {
    "collapsed": true
   },
   "outputs": [],
   "source": [
    "seq_t = \"ACGTACGTACGT\"\n",
    "assert nucl_freq_all(seq_t) == {'A': 0.25, 'C': 0.25, 'G': 0.25, 'T': 0.25}"
   ]
  }
 ],
 "metadata": {
  "kernelspec": {
   "display_name": "Python 3",
   "language": "python",
   "name": "python3"
  },
  "language_info": {
   "codemirror_mode": {
    "name": "ipython",
    "version": 3
   },
   "file_extension": ".py",
   "mimetype": "text/x-python",
   "name": "python",
   "nbconvert_exporter": "python",
   "pygments_lexer": "ipython3",
   "version": "3.6.1"
  }
 },
 "nbformat": 4,
 "nbformat_minor": 2
}
