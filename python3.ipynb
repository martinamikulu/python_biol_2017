{
 "cells": [
  {
   "cell_type": "code",
   "execution_count": 22,
   "metadata": {
    "collapsed": true
   },
   "outputs": [],
   "source": [
    "abeceda = set('abcdefghijklmnopqrstuvwxyzáéíóúůýžščřďťň') "
   ]
  },
  {
   "cell_type": "code",
   "execution_count": 37,
   "metadata": {
    "collapsed": true
   },
   "outputs": [],
   "source": [
    "cislice = set('0123456789')"
   ]
  },
  {
   "cell_type": "code",
   "execution_count": 49,
   "metadata": {},
   "outputs": [
    {
     "name": "stdout",
     "output_type": "stream",
     "text": [
      "Počet písmen: 52\n",
      "Počet číslic: 3\n",
      "Počet jiných znaků: 19\n"
     ]
    }
   ],
   "source": [
    "text = ''\n",
    "pocet_pismen = 0\n",
    "pocet_cislic = 0\n",
    "pocet_jinych = 0\n",
    "for i in range(len(text)):\n",
    "    aktualni_znak = set()\n",
    "    aktualni_znak.add(text[i].lower())\n",
    "    if aktualni_znak.intersection(abeceda) == aktualni_znak:\n",
    "        pocet_pismen = pocet_pismen + 1\n",
    "    elif aktualni_znak.intersection(cislice) == aktualni_znak:\n",
    "        pocet_cislic = pocet_cislic + 1\n",
    "    else:\n",
    "        pocet_jinych = pocet_jinych + 1\n",
    "print('Počet písmen: ' + str(pocet_pismen))\n",
    "print('Počet číslic: ' + str(pocet_cislic))\n",
    "print('Počet jiných znaků: ' + str(pocet_jinych))"
   ]
  },
  {
   "cell_type": "code",
   "execution_count": 122,
   "metadata": {},
   "outputs": [
    {
     "name": "stdout",
     "output_type": "stream",
     "text": [
      "2měsíčnímu kotěti je 3.0 lidských let\n"
     ]
    }
   ],
   "source": [
    "kocka_vek_roky = 2/12\n",
    "kocka_lidsky_vek = 0\n",
    "if kocka_vek_roky < 1:\n",
    "    kocka_lidsky_vek = 18*kocka_vek_roky\n",
    "    print(str(int(kocka_vek_roky*12)) +'měsíčnímu kotěti je ' + str(round(kocka_lidsky_vek, 1)) + ' lidských let')\n",
    "else:\n",
    "    for i in range(kocka_vek_roky):\n",
    "        if i==0:\n",
    "            kocka_lidsky_vek = kocka_lidsky_vek + 18\n",
    "        elif i==1:\n",
    "            kocka_lidsky_vek = kocka_lidsky_vek + 7\n",
    "        elif i<kocka_vek_roky:\n",
    "            kocka_lidsky_vek = kocka_lidsky_vek + 5\n",
    "    print(str(kocka_vek_roky)+'leté kočce je ' + str(kocka_lidsky_vek) + ' lidských let')"
   ]
  },
  {
   "cell_type": "code",
   "execution_count": null,
   "metadata": {
    "collapsed": true
   },
   "outputs": [],
   "source": []
  }
 ],
 "metadata": {
  "kernelspec": {
   "display_name": "Python 3",
   "language": "python",
   "name": "python3"
  },
  "language_info": {
   "codemirror_mode": {
    "name": "ipython",
    "version": 3
   },
   "file_extension": ".py",
   "mimetype": "text/x-python",
   "name": "python",
   "nbconvert_exporter": "python",
   "pygments_lexer": "ipython3",
   "version": "3.6.1"
  }
 },
 "nbformat": 4,
 "nbformat_minor": 2
}
